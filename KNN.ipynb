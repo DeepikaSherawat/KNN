{
 "cells": [
  {
   "cell_type": "code",
   "execution_count": 2,
   "metadata": {
    "ExecuteTime": {
     "end_time": "2021-09-11T11:57:08.630077Z",
     "start_time": "2021-09-11T11:57:06.908874Z"
    }
   },
   "outputs": [],
   "source": [
    "# KNN Classification\n",
    "from pandas import read_csv\n",
    "import numpy as np\n",
    "from sklearn.model_selection import KFold\n",
    "from sklearn.model_selection import cross_val_score\n",
    "from sklearn.neighbors import KNeighborsClassifier\n"
   ]
  },
  {
   "cell_type": "code",
   "execution_count": 2,
   "metadata": {
    "ExecuteTime": {
     "end_time": "2021-09-11T11:57:10.744253Z",
     "start_time": "2021-09-11T11:57:10.559211Z"
    }
   },
   "outputs": [
    {
     "name": "stdout",
     "output_type": "stream",
     "text": [
      " Volume in drive C is Windows-SSD\n",
      " Volume Serial Number is F245-89E4\n",
      "\n",
      " Directory of C:\\Users\\DEEPIKA SHERAWAT\n",
      "\n",
      "29-06-2023  10:53    <DIR>          .\n",
      "10-04-2023  21:41    <DIR>          ..\n",
      "05-05-2022  23:31    <DIR>          .conda\n",
      "05-05-2022  21:27                42 .condarc\n",
      "05-05-2022  00:41    <DIR>          .continuum\n",
      "29-06-2023  10:29    <DIR>          .ipynb_checkpoints\n",
      "01-02-2022  01:34    <DIR>          .ipython\n",
      "05-02-2022  09:17    <DIR>          .jupyter\n",
      "03-06-2023  21:55    <DIR>          .keras\n",
      "20-02-2022  11:44    <DIR>          .matplotlib\n",
      "22-06-2023  17:40             2,436 50_Startups.csv\n",
      "21-05-2023  08:32            30,582 Afinn.csv\n",
      "24-04-2023  20:47            97,773 AI [Regression ].ipynb\n",
      "23-12-2022  11:55    <DIR>          anaconda3\n",
      "26-05-2023  22:34            31,187 Anova and Chisquare.ipynb\n",
      "21-05-2023  08:35            23,666 apple.txt\n",
      "07-06-2023  07:17             2,002 appupdated.py\n",
      "02-05-2023  15:49           126,720 Association Rules.ipynb\n",
      "13-06-2023  07:37            33,072 Bagging_Random Forest_Boosting_Stacking.ipynb\n",
      "24-06-2023  15:16         4,610,348 bank-full.csv\n",
      "13-04-2023  10:29           103,983 BEML.csv\n",
      "19-02-2022  11:16            87,155 beml_df.csv\n",
      "26-06-2023  17:51           536,483 book.csv\n",
      "15-04-2023  17:27               343 Book1.csv\n",
      "16-04-2023  16:48                87 Book2.csv\n",
      "17-06-2023  18:08                87 BuyerRatio.csv\n",
      "14-04-2023  16:37             3,529 Cars (5).csv\n",
      "13-04-2023  15:12             3,529 Cars.csv\n",
      "27-02-2022  12:40         2,863,309 Chapter 7_ Correlation and Simple Linear Regression - Natural Resources Biometrics.pdf\n",
      "26-05-2023  23:26             1,906 chi2.ipynb\n",
      "30-04-2023  12:44            29,822 claimants.csv\n",
      "05-06-2023  21:14           243,981 Classification Project.ipynb\n",
      "06-06-2023  13:34           313,608 Classification_Case study.ipynb\n",
      "28-06-2023  15:15            85,353 Clustering_airline_assignment.ipynb\n",
      "28-06-2023  15:26           225,787 Clustering_Crime_rate_Assignment.ipynb\n",
      "14-04-2023  21:42             5,891 Confidence Interval.ipynb\n",
      "11-04-2023  09:32    <DIR>          Contacts\n",
      "20-04-2023  15:05            13,423 Costomer+OrderForm.csv\n",
      "27-06-2023  20:27             1,328 crime_data.csv\n",
      "19-04-2023  20:29               525 Cutlets.csv\n",
      "20-02-2022  11:40             5,311 data_clean.csv\n",
      "05-06-2023  20:32             1,104 dataset.csv\n",
      "18-05-2023  18:45           389,319 Decision Tree_C5.0_CART.ipynb\n",
      "19-06-2023  20:05               218 delivery_time.csv\n",
      "06-06-2023  13:49            23,873 diabetes.csv\n",
      "10-02-2022  12:12    <DIR>          Documents\n",
      "29-06-2023  10:17    <DIR>          Downloads\n",
      "12-04-2023  20:52           609,087 DS_EDA_17_18_Dec_2022.ipynb\n",
      "27-06-2023  21:48           157,170 Eastwestairline.csv\n",
      "27-06-2023  20:50             1,703 EastWestAirlines.xlsx\n",
      "27-06-2023  21:44           310,389 EDA_1_Latest (1).ipynb\n",
      "15-09-2022  19:37    <DIR>          engagement\n",
      "11-04-2023  09:32    <DIR>          Favorites\n",
      "06-06-2023  12:37            65,164 filename\n",
      "05-06-2023  06:17             9,197 footfalls.csv\n",
      "05-06-2023  21:01            71,688 Forecasting Model_Arima.ipynb\n",
      "05-06-2023  06:55           648,707 Forecasting_Data Driven Models.ipynb\n",
      "13-04-2023  10:29           107,633 GLAXO.csv\n",
      "19-02-2022  11:16            88,939 glaxo_df.csv\n",
      "19-05-2023  23:16           475,316 Hamspam.csv\n",
      "27-06-2023  20:39           231,514 Hierarchical Clustering (1).ipynb\n",
      "28-06-2023  21:47           180,937 Hierarchical Clustering (1)-Copy1.ipynb\n",
      "17-06-2023  17:23            15,495 Hypothesis Test.ipynb\n",
      "18-06-2023  20:34            36,403 Hypothesis Testing.ipynb\n",
      "20-04-2023  15:17            66,291 Hypothsis_testing_Assignment.ipynb\n",
      "14-06-2023  06:51            52,322 introduction_to_python_basics.ipynb\n",
      "26-05-2023  22:10             4,821 iris.csv\n",
      "07-06-2023  16:59            27,040 Knn demo.ipynb\n",
      "07-06-2023  07:16            27,040 Knn demo-Copy1.ipynb\n",
      "06-06-2023  13:38            41,688 KNN.ipynb\n",
      "07-06-2023  06:52            52,786 knn.sav\n",
      "19-04-2023  21:38             3,487 LabTAT.csv\n",
      "11-04-2023  09:32    <DIR>          Links\n",
      "10-04-2023  20:56            18,259 list comprehension and functions.ipynb\n",
      "24-06-2023  14:16            47,141 Logistic Regression.ipynb\n",
      "24-06-2023  18:04           162,829 Logistic_regression_assignment.ipynb\n",
      "03-04-2022  17:26           762,058 ML BASICS.pdf\n",
      "12-03-2022  10:20           234,909 Movie.csv\n",
      "10-04-2023  13:34             1,336 mtcars.csv\n",
      "23-06-2023  20:14           785,314 Multi Linear Regression.ipynb\n",
      "11-04-2023  09:32    <DIR>          Music\n",
      "20-05-2023  21:52           119,141 Naive Classifer.ipynb\n",
      "21-05-2023  08:47           159,949 Named Entity Recognition_Emotion Mining.ipynb\n",
      "04-06-2023  06:24            80,830 Neural Network_Back Propagation.ipynb\n",
      "03-06-2023  21:34            14,585 Neural Network_Hyperparameter Tuning.ipynb\n",
      "22-04-2023  14:28            64,943 news_paper.ipynb\n",
      "21-04-2023  12:13             1,240 NewspaperData.csv\n",
      "21-05-2023  10:40            62,960 NLP Food Review.csv\n",
      "22-05-2023  14:14           114,287 NLP.ipynb\n",
      "22-05-2023  11:29            61,957 NLP-food-review.csv\n",
      "16-06-2023  07:51           154,306 Normal Disribution.ipynb\n",
      "29-06-2023  10:08    <DIR>          OneDrive\n",
      "19-06-2023  15:27           262,613 pandas and numpy intro.ipynb\n",
      "19-05-2023  15:32               854 PCA.csv\n",
      "20-05-2023  20:46           131,674 PCA.ipynb\n",
      "03-06-2023  21:25            23,279 pima-indians-diabetes.csv\n",
      "19-03-2022  09:48            23,279 pima-indians-diabetes.data (2).csv\n",
      "20-03-2022  10:44            23,279 pima-indians-diabetes.data.csv\n",
      "16-04-2023  14:28            24,896 plt.jpg\n",
      "25-06-2022  09:41               468 proble_statement(50_startups).txt\n",
      "14-06-2023  09:09            36,313 python_loops_and _functions.ipynb\n",
      "13-04-2023  16:45               962 Q7.csv\n",
      "13-04-2023  20:42               502 Q9_a.csv\n",
      "14-04-2023  14:15             2,420 Q9_b.csv\n",
      "27-06-2023  06:20           115,794 Recommendation Engine.ipynb\n",
      "27-06-2023  10:59           139,312 Recommendation_system_Assignment.ipynb\n",
      "22-05-2023  11:24            62,954 Restaurant_Reviews (1).tsv\n",
      "04-06-2023  15:17            55,112 Ridge_Lasso_ElasticNet.ipynb\n",
      "25-04-2023  12:10             2,205 Salaries.csv\n",
      "22-06-2023  15:47               454 Salary_Data.csv\n",
      "11-04-2023  09:32    <DIR>          Saved Games\n",
      "08-05-2023  11:22    <DIR>          seaborn-data\n",
      "11-04-2023  09:32    <DIR>          Searches\n",
      "22-06-2023  16:06           112,542 Simple_linear_regression assignment.ipynb\n",
      "23-06-2023  14:13            66,216 simple_linear_regression.ipynb\n",
      "22-06-2023  15:24            96,033 Simple_Linear_Regression_Waist_AT.ipynb\n",
      "06-06-2023  12:36            87,776 sonar.all-data.csv\n",
      "28-05-2022  11:22            48,199 standardnormaltable.pdf\n",
      "14-04-2023  14:17            14,998 Statistics Assignment Notebook.ipynb\n",
      "28-05-2022  13:22         5,238,772 Stats_2.pdf\n",
      "01-06-2023  09:19            58,597 SVM .ipynb\n",
      "21-05-2023  18:27            88,922 Text Processing_Feature Extraction (1).ipynb\n",
      "02-05-2023  15:11            44,382 Titanic.csv\n",
      "23-06-2023  19:53           224,041 ToyotaCorolla.csv\n",
      "11-04-2023  19:54            61,194 train.csv\n",
      "28-05-2022  11:22            12,671 t-table.pdf\n",
      "20-03-2022  12:00               827 Universities (1).csv\n",
      "23-06-2023  14:16           550,215 Untitled.ipynb\n",
      "18-06-2023  16:45             7,985 Untitled1.ipynb\n",
      "23-06-2023  21:26         1,700,188 Untitled2.ipynb\n",
      "29-06-2023  10:53            28,869 Untitled3.ipynb\n",
      "19-06-2023  16:38            46,690 Untitled-Copy1.ipynb\n",
      "05-06-2023  20:32               160 validation.csv\n",
      "11-04-2023  09:32    <DIR>          Videos\n",
      "04-06-2022  11:01           865,857 Visualization_mat_seaborn_Latest (1).ipynb\n",
      "11-04-2023  21:15           147,967 visulization_matplotlib_seaborn.ipynb\n",
      "05-06-2023  18:41               962 water.csv\n",
      "21-04-2023  12:08             1,170 WC_AT.csv\n",
      "15-04-2023  10:16             1,172 wc-at.csv\n",
      "27-06-2023  17:40            15,021 Wholesale customers data.csv\n",
      "             118 File(s)     26,456,439 bytes\n",
      "              22 Dir(s)  163,295,379,456 bytes free\n"
     ]
    }
   ],
   "source": [
    "ls"
   ]
  },
  {
   "cell_type": "code",
   "execution_count": 3,
   "metadata": {
    "ExecuteTime": {
     "end_time": "2021-09-11T11:57:11.485711Z",
     "start_time": "2021-09-11T11:57:11.456713Z"
    }
   },
   "outputs": [],
   "source": [
    "filename = 'pima-indians-diabetes.data (2).csv'\n",
    "names = [\n",
    "    'preg', 'plas', 'pres', 'skin', 'test', 'mass', 'pedi', 'age', 'class'\n",
    "]\n",
    "dataframe = read_csv(filename, names=names)\n",
    "array = dataframe.values\n",
    "X = array[:, 0:8]\n",
    "Y = array[:, 8]"
   ]
  },
  {
   "cell_type": "code",
   "execution_count": 6,
   "metadata": {},
   "outputs": [
    {
     "data": {
      "text/plain": [
       "(768, 8)"
      ]
     },
     "execution_count": 6,
     "metadata": {},
     "output_type": "execute_result"
    }
   ],
   "source": [
    "X.shape"
   ]
  },
  {
   "cell_type": "code",
   "execution_count": 7,
   "metadata": {},
   "outputs": [
    {
     "data": {
      "text/plain": [
       "(768,)"
      ]
     },
     "execution_count": 7,
     "metadata": {},
     "output_type": "execute_result"
    }
   ],
   "source": [
    "Y.shape"
   ]
  },
  {
   "cell_type": "code",
   "execution_count": 4,
   "metadata": {
    "ExecuteTime": {
     "end_time": "2021-08-06T15:55:42.399572Z",
     "start_time": "2021-08-06T15:55:42.356072Z"
    }
   },
   "outputs": [
    {
     "data": {
      "text/html": [
       "<div>\n",
       "<style scoped>\n",
       "    .dataframe tbody tr th:only-of-type {\n",
       "        vertical-align: middle;\n",
       "    }\n",
       "\n",
       "    .dataframe tbody tr th {\n",
       "        vertical-align: top;\n",
       "    }\n",
       "\n",
       "    .dataframe thead th {\n",
       "        text-align: right;\n",
       "    }\n",
       "</style>\n",
       "<table border=\"1\" class=\"dataframe\">\n",
       "  <thead>\n",
       "    <tr style=\"text-align: right;\">\n",
       "      <th></th>\n",
       "      <th>preg</th>\n",
       "      <th>plas</th>\n",
       "      <th>pres</th>\n",
       "      <th>skin</th>\n",
       "      <th>test</th>\n",
       "      <th>mass</th>\n",
       "      <th>pedi</th>\n",
       "      <th>age</th>\n",
       "      <th>class</th>\n",
       "    </tr>\n",
       "  </thead>\n",
       "  <tbody>\n",
       "    <tr>\n",
       "      <th>0</th>\n",
       "      <td>6</td>\n",
       "      <td>148</td>\n",
       "      <td>72</td>\n",
       "      <td>35</td>\n",
       "      <td>0</td>\n",
       "      <td>33.6</td>\n",
       "      <td>0.627</td>\n",
       "      <td>50</td>\n",
       "      <td>1</td>\n",
       "    </tr>\n",
       "    <tr>\n",
       "      <th>1</th>\n",
       "      <td>1</td>\n",
       "      <td>85</td>\n",
       "      <td>66</td>\n",
       "      <td>29</td>\n",
       "      <td>0</td>\n",
       "      <td>26.6</td>\n",
       "      <td>0.351</td>\n",
       "      <td>31</td>\n",
       "      <td>0</td>\n",
       "    </tr>\n",
       "    <tr>\n",
       "      <th>2</th>\n",
       "      <td>8</td>\n",
       "      <td>183</td>\n",
       "      <td>64</td>\n",
       "      <td>0</td>\n",
       "      <td>0</td>\n",
       "      <td>23.3</td>\n",
       "      <td>0.672</td>\n",
       "      <td>32</td>\n",
       "      <td>1</td>\n",
       "    </tr>\n",
       "    <tr>\n",
       "      <th>3</th>\n",
       "      <td>1</td>\n",
       "      <td>89</td>\n",
       "      <td>66</td>\n",
       "      <td>23</td>\n",
       "      <td>94</td>\n",
       "      <td>28.1</td>\n",
       "      <td>0.167</td>\n",
       "      <td>21</td>\n",
       "      <td>0</td>\n",
       "    </tr>\n",
       "    <tr>\n",
       "      <th>4</th>\n",
       "      <td>0</td>\n",
       "      <td>137</td>\n",
       "      <td>40</td>\n",
       "      <td>35</td>\n",
       "      <td>168</td>\n",
       "      <td>43.1</td>\n",
       "      <td>2.288</td>\n",
       "      <td>33</td>\n",
       "      <td>1</td>\n",
       "    </tr>\n",
       "    <tr>\n",
       "      <th>...</th>\n",
       "      <td>...</td>\n",
       "      <td>...</td>\n",
       "      <td>...</td>\n",
       "      <td>...</td>\n",
       "      <td>...</td>\n",
       "      <td>...</td>\n",
       "      <td>...</td>\n",
       "      <td>...</td>\n",
       "      <td>...</td>\n",
       "    </tr>\n",
       "    <tr>\n",
       "      <th>763</th>\n",
       "      <td>10</td>\n",
       "      <td>101</td>\n",
       "      <td>76</td>\n",
       "      <td>48</td>\n",
       "      <td>180</td>\n",
       "      <td>32.9</td>\n",
       "      <td>0.171</td>\n",
       "      <td>63</td>\n",
       "      <td>0</td>\n",
       "    </tr>\n",
       "    <tr>\n",
       "      <th>764</th>\n",
       "      <td>2</td>\n",
       "      <td>122</td>\n",
       "      <td>70</td>\n",
       "      <td>27</td>\n",
       "      <td>0</td>\n",
       "      <td>36.8</td>\n",
       "      <td>0.340</td>\n",
       "      <td>27</td>\n",
       "      <td>0</td>\n",
       "    </tr>\n",
       "    <tr>\n",
       "      <th>765</th>\n",
       "      <td>5</td>\n",
       "      <td>121</td>\n",
       "      <td>72</td>\n",
       "      <td>23</td>\n",
       "      <td>112</td>\n",
       "      <td>26.2</td>\n",
       "      <td>0.245</td>\n",
       "      <td>30</td>\n",
       "      <td>0</td>\n",
       "    </tr>\n",
       "    <tr>\n",
       "      <th>766</th>\n",
       "      <td>1</td>\n",
       "      <td>126</td>\n",
       "      <td>60</td>\n",
       "      <td>0</td>\n",
       "      <td>0</td>\n",
       "      <td>30.1</td>\n",
       "      <td>0.349</td>\n",
       "      <td>47</td>\n",
       "      <td>1</td>\n",
       "    </tr>\n",
       "    <tr>\n",
       "      <th>767</th>\n",
       "      <td>1</td>\n",
       "      <td>93</td>\n",
       "      <td>70</td>\n",
       "      <td>31</td>\n",
       "      <td>0</td>\n",
       "      <td>30.4</td>\n",
       "      <td>0.315</td>\n",
       "      <td>23</td>\n",
       "      <td>0</td>\n",
       "    </tr>\n",
       "  </tbody>\n",
       "</table>\n",
       "<p>768 rows × 9 columns</p>\n",
       "</div>"
      ],
      "text/plain": [
       "     preg  plas  pres  skin  test  mass   pedi  age  class\n",
       "0       6   148    72    35     0  33.6  0.627   50      1\n",
       "1       1    85    66    29     0  26.6  0.351   31      0\n",
       "2       8   183    64     0     0  23.3  0.672   32      1\n",
       "3       1    89    66    23    94  28.1  0.167   21      0\n",
       "4       0   137    40    35   168  43.1  2.288   33      1\n",
       "..    ...   ...   ...   ...   ...   ...    ...  ...    ...\n",
       "763    10   101    76    48   180  32.9  0.171   63      0\n",
       "764     2   122    70    27     0  36.8  0.340   27      0\n",
       "765     5   121    72    23   112  26.2  0.245   30      0\n",
       "766     1   126    60     0     0  30.1  0.349   47      1\n",
       "767     1    93    70    31     0  30.4  0.315   23      0\n",
       "\n",
       "[768 rows x 9 columns]"
      ]
     },
     "execution_count": 4,
     "metadata": {},
     "output_type": "execute_result"
    }
   ],
   "source": [
    "dataframe"
   ]
  },
  {
   "cell_type": "code",
   "execution_count": 5,
   "metadata": {
    "ExecuteTime": {
     "end_time": "2021-08-06T15:55:45.883628Z",
     "start_time": "2021-08-06T15:55:45.868335Z"
    }
   },
   "outputs": [
    {
     "data": {
      "text/plain": [
       "array([[  6.   , 148.   ,  72.   , ...,  33.6  ,   0.627,  50.   ],\n",
       "       [  1.   ,  85.   ,  66.   , ...,  26.6  ,   0.351,  31.   ],\n",
       "       [  8.   , 183.   ,  64.   , ...,  23.3  ,   0.672,  32.   ],\n",
       "       ...,\n",
       "       [  5.   , 121.   ,  72.   , ...,  26.2  ,   0.245,  30.   ],\n",
       "       [  1.   , 126.   ,  60.   , ...,  30.1  ,   0.349,  47.   ],\n",
       "       [  1.   ,  93.   ,  70.   , ...,  30.4  ,   0.315,  23.   ]])"
      ]
     },
     "execution_count": 5,
     "metadata": {},
     "output_type": "execute_result"
    }
   ],
   "source": [
    "X"
   ]
  },
  {
   "cell_type": "code",
   "execution_count": 6,
   "metadata": {},
   "outputs": [
    {
     "data": {
      "text/plain": [
       "array([1., 0., 1., 0., 1., 0., 1., 0., 1., 1., 0., 1., 0., 1., 1., 1., 1.,\n",
       "       1., 0., 1., 0., 0., 1., 1., 1., 1., 1., 0., 0., 0., 0., 1., 0., 0.,\n",
       "       0., 0., 0., 1., 1., 1., 0., 0., 0., 1., 0., 1., 0., 0., 1., 0., 0.,\n",
       "       0., 0., 1., 0., 0., 1., 0., 0., 0., 0., 1., 0., 0., 1., 0., 1., 0.,\n",
       "       0., 0., 1., 0., 1., 0., 0., 0., 0., 0., 1., 0., 0., 0., 0., 0., 1.,\n",
       "       0., 0., 0., 1., 0., 0., 0., 0., 1., 0., 0., 0., 0., 0., 1., 1., 0.,\n",
       "       0., 0., 0., 0., 0., 0., 0., 1., 1., 1., 0., 0., 1., 1., 1., 0., 0.,\n",
       "       0., 1., 0., 0., 0., 1., 1., 0., 0., 1., 1., 1., 1., 1., 0., 0., 0.,\n",
       "       0., 0., 0., 0., 0., 0., 0., 1., 0., 0., 0., 0., 0., 0., 0., 0., 1.,\n",
       "       0., 1., 1., 0., 0., 0., 1., 0., 0., 0., 0., 1., 1., 0., 0., 0., 0.,\n",
       "       1., 1., 0., 0., 0., 1., 0., 1., 0., 1., 0., 0., 0., 0., 0., 1., 1.,\n",
       "       1., 1., 1., 0., 0., 1., 1., 0., 1., 0., 1., 1., 1., 0., 0., 0., 0.,\n",
       "       0., 0., 1., 1., 0., 1., 0., 0., 0., 1., 1., 1., 1., 0., 1., 1., 1.,\n",
       "       1., 0., 0., 0., 0., 0., 1., 0., 0., 1., 1., 0., 0., 0., 1., 1., 1.,\n",
       "       1., 0., 0., 0., 1., 1., 0., 1., 0., 0., 0., 0., 0., 0., 0., 0., 1.,\n",
       "       1., 0., 0., 0., 1., 0., 1., 0., 0., 1., 0., 1., 0., 0., 1., 1., 0.,\n",
       "       0., 0., 0., 0., 1., 0., 0., 0., 1., 0., 0., 1., 1., 0., 0., 1., 0.,\n",
       "       0., 0., 1., 1., 1., 0., 0., 1., 0., 1., 0., 1., 1., 0., 1., 0., 0.,\n",
       "       1., 0., 1., 1., 0., 0., 1., 0., 1., 0., 0., 1., 0., 1., 0., 1., 1.,\n",
       "       1., 0., 0., 1., 0., 1., 0., 0., 0., 1., 0., 0., 0., 0., 1., 1., 1.,\n",
       "       0., 0., 0., 0., 0., 0., 0., 0., 0., 1., 0., 0., 0., 0., 0., 1., 1.,\n",
       "       1., 0., 1., 1., 0., 0., 1., 0., 0., 1., 0., 0., 1., 1., 0., 0., 0.,\n",
       "       0., 1., 0., 0., 1., 0., 0., 0., 0., 0., 0., 0., 1., 1., 1., 0., 0.,\n",
       "       1., 0., 0., 1., 0., 0., 1., 0., 1., 1., 0., 1., 0., 1., 0., 1., 0.,\n",
       "       1., 1., 0., 0., 0., 0., 1., 1., 0., 1., 0., 1., 0., 0., 0., 0., 1.,\n",
       "       1., 0., 1., 0., 1., 0., 0., 0., 0., 0., 1., 0., 0., 0., 0., 1., 0.,\n",
       "       0., 1., 1., 1., 0., 0., 1., 0., 0., 1., 0., 0., 0., 1., 0., 0., 1.,\n",
       "       0., 0., 0., 0., 0., 0., 0., 0., 0., 1., 0., 0., 0., 0., 0., 0., 0.,\n",
       "       1., 0., 0., 0., 1., 0., 0., 0., 1., 1., 0., 0., 0., 0., 0., 0., 0.,\n",
       "       1., 0., 0., 0., 0., 1., 0., 0., 0., 1., 0., 0., 0., 1., 0., 0., 0.,\n",
       "       1., 0., 0., 0., 0., 1., 1., 0., 0., 0., 0., 0., 0., 1., 0., 0., 0.,\n",
       "       0., 0., 0., 0., 0., 0., 0., 0., 1., 0., 0., 0., 1., 1., 1., 1., 0.,\n",
       "       0., 1., 1., 0., 0., 0., 0., 0., 0., 0., 0., 0., 0., 0., 0., 0., 1.,\n",
       "       1., 0., 0., 0., 0., 0., 0., 0., 1., 0., 0., 0., 0., 0., 0., 0., 1.,\n",
       "       0., 1., 1., 0., 0., 0., 1., 0., 1., 0., 1., 0., 1., 0., 1., 0., 0.,\n",
       "       1., 0., 0., 1., 0., 0., 0., 0., 1., 1., 0., 1., 0., 0., 0., 0., 1.,\n",
       "       1., 0., 1., 0., 0., 0., 1., 1., 0., 0., 0., 0., 0., 0., 0., 0., 0.,\n",
       "       0., 1., 0., 0., 0., 0., 1., 0., 0., 1., 0., 0., 0., 1., 0., 0., 0.,\n",
       "       1., 1., 1., 0., 0., 0., 0., 0., 0., 1., 0., 0., 0., 1., 0., 1., 1.,\n",
       "       1., 1., 0., 1., 1., 0., 0., 0., 0., 0., 0., 0., 1., 1., 0., 1., 0.,\n",
       "       0., 1., 0., 1., 0., 0., 0., 0., 0., 1., 0., 1., 0., 1., 0., 1., 1.,\n",
       "       0., 0., 0., 0., 1., 1., 0., 0., 0., 1., 0., 1., 1., 0., 0., 1., 0.,\n",
       "       0., 1., 1., 0., 0., 1., 0., 0., 1., 0., 0., 0., 0., 0., 0., 0., 1.,\n",
       "       1., 1., 0., 0., 0., 0., 0., 0., 1., 1., 0., 0., 1., 0., 0., 1., 0.,\n",
       "       1., 1., 1., 0., 0., 1., 1., 1., 0., 1., 0., 1., 0., 1., 0., 0., 0.,\n",
       "       0., 1., 0.])"
      ]
     },
     "execution_count": 6,
     "metadata": {},
     "output_type": "execute_result"
    }
   ],
   "source": [
    "Y"
   ]
  },
  {
   "cell_type": "code",
   "execution_count": 6,
   "metadata": {
    "ExecuteTime": {
     "end_time": "2021-09-11T11:58:21.342301Z",
     "start_time": "2021-09-11T11:58:21.320792Z"
    }
   },
   "outputs": [],
   "source": [
    "X=(X-X.min(axis=0))/(X.max(axis=0)-X.min(axis=0))"
   ]
  },
  {
   "cell_type": "code",
   "execution_count": 7,
   "metadata": {
    "ExecuteTime": {
     "end_time": "2021-09-11T11:58:21.975231Z",
     "start_time": "2021-09-11T11:58:21.925688Z"
    }
   },
   "outputs": [
    {
     "data": {
      "text/plain": [
       "array([[0.35294118, 0.74371859, 0.59016393, ..., 0.50074516, 0.23441503,\n",
       "        0.48333333],\n",
       "       [0.05882353, 0.42713568, 0.54098361, ..., 0.39642325, 0.11656704,\n",
       "        0.16666667],\n",
       "       [0.47058824, 0.91959799, 0.52459016, ..., 0.34724292, 0.25362938,\n",
       "        0.18333333],\n",
       "       ...,\n",
       "       [0.29411765, 0.6080402 , 0.59016393, ..., 0.390462  , 0.07130658,\n",
       "        0.15      ],\n",
       "       [0.05882353, 0.63316583, 0.49180328, ..., 0.4485842 , 0.11571307,\n",
       "        0.43333333],\n",
       "       [0.05882353, 0.46733668, 0.57377049, ..., 0.45305514, 0.10119556,\n",
       "        0.03333333]])"
      ]
     },
     "execution_count": 7,
     "metadata": {},
     "output_type": "execute_result"
    }
   ],
   "source": [
    "X"
   ]
  },
  {
   "cell_type": "code",
   "execution_count": 8,
   "metadata": {
    "ExecuteTime": {
     "end_time": "2021-09-11T11:58:46.329470Z",
     "start_time": "2021-09-11T11:58:46.222240Z"
    }
   },
   "outputs": [],
   "source": [
    "model = KNeighborsClassifier(n_neighbors=17)\n",
    "results = cross_val_score(model, X, Y, cv=5)"
   ]
  },
  {
   "cell_type": "code",
   "execution_count": 9,
   "metadata": {},
   "outputs": [
    {
     "data": {
      "text/plain": [
       "array([0.73376623, 0.73376623, 0.75324675, 0.77124183, 0.77777778])"
      ]
     },
     "execution_count": 9,
     "metadata": {},
     "output_type": "execute_result"
    }
   ],
   "source": [
    "results"
   ]
  },
  {
   "cell_type": "code",
   "execution_count": 10,
   "metadata": {
    "ExecuteTime": {
     "end_time": "2021-09-11T11:58:47.534143Z",
     "start_time": "2021-09-11T11:58:47.524025Z"
    }
   },
   "outputs": [
    {
     "name": "stdout",
     "output_type": "stream",
     "text": [
      "0.7539597657244717\n"
     ]
    }
   ],
   "source": [
    "print(results.mean())"
   ]
  },
  {
   "cell_type": "markdown",
   "metadata": {},
   "source": [
    "### Grid Search for Algorithm Tuning"
   ]
  },
  {
   "cell_type": "code",
   "execution_count": 11,
   "metadata": {
    "ExecuteTime": {
     "end_time": "2021-09-11T11:59:43.365652Z",
     "start_time": "2021-09-11T11:59:43.356893Z"
    }
   },
   "outputs": [],
   "source": [
    "# Grid Search for Algorithm Tuning\n",
    "import numpy\n",
    "from pandas import read_csv\n",
    "from sklearn.neighbors import KNeighborsClassifier\n",
    "from sklearn.model_selection import GridSearchCV"
   ]
  },
  {
   "cell_type": "code",
   "execution_count": 12,
   "metadata": {
    "ExecuteTime": {
     "end_time": "2021-09-11T11:59:43.884765Z",
     "start_time": "2021-09-11T11:59:43.869872Z"
    }
   },
   "outputs": [],
   "source": [
    "filename = 'pima-indians-diabetes.data (2).csv'\n",
    "names = [\n",
    "    'preg', 'plas', 'pres', 'skin', 'test', 'mass', 'pedi', 'age', 'class'\n",
    "]\n",
    "dataframe = read_csv(filename, names=names)\n",
    "array = dataframe.values\n",
    "X = array[:, 0:8]\n",
    "Y = array[:, 8]"
   ]
  },
  {
   "cell_type": "code",
   "execution_count": 13,
   "metadata": {
    "ExecuteTime": {
     "end_time": "2021-09-11T11:59:50.717757Z",
     "start_time": "2021-09-11T11:59:50.699927Z"
    }
   },
   "outputs": [
    {
     "data": {
      "text/plain": [
       "{'n_neighbors': array([ 1,  3,  5,  7,  9, 11, 13, 15, 17, 19, 21, 23, 25, 27, 29, 31, 33,\n",
       "        35, 37, 39])}"
      ]
     },
     "execution_count": 13,
     "metadata": {},
     "output_type": "execute_result"
    }
   ],
   "source": [
    "n_neighbors = numpy.array([2*i+1 for i in range(0,20)])\n",
    "param_grid = dict(n_neighbors=n_neighbors)\n",
    "param_grid \n"
   ]
  },
  {
   "cell_type": "code",
   "execution_count": 14,
   "metadata": {},
   "outputs": [
    {
     "data": {
      "text/plain": [
       "'estimator: estimator object being used\\nparam_grid: dictionary that contains all of the parameters to try\\nscoring: evaluation metric to use when ranking results\\ncv: cross-validation, the number of cv folds for each combination of parameters'"
      ]
     },
     "execution_count": 14,
     "metadata": {},
     "output_type": "execute_result"
    }
   ],
   "source": [
    "'''estimator: estimator object being used\n",
    "param_grid: dictionary that contains all of the parameters to try\n",
    "scoring: evaluation metric to use when ranking results\n",
    "cv: cross-validation, the number of cv folds for each combination of parameters'''"
   ]
  },
  {
   "cell_type": "code",
   "execution_count": 15,
   "metadata": {
    "ExecuteTime": {
     "end_time": "2021-09-11T11:59:56.901565Z",
     "start_time": "2021-09-11T11:59:56.895204Z"
    }
   },
   "outputs": [
    {
     "data": {
      "text/plain": [
       "array([ 1,  3,  5,  7,  9, 11, 13, 15, 17, 19, 21, 23, 25, 27, 29, 31, 33,\n",
       "       35, 37, 39])"
      ]
     },
     "execution_count": 15,
     "metadata": {},
     "output_type": "execute_result"
    }
   ],
   "source": [
    "n_neighbors"
   ]
  },
  {
   "cell_type": "code",
   "execution_count": 16,
   "metadata": {
    "ExecuteTime": {
     "end_time": "2021-09-11T12:00:38.610880Z",
     "start_time": "2021-09-11T12:00:38.207386Z"
    }
   },
   "outputs": [
    {
     "data": {
      "text/plain": [
       "GridSearchCV(cv=10, estimator=KNeighborsClassifier(),\n",
       "             param_grid={'n_neighbors': array([ 1,  3,  5,  7,  9, 11, 13, 15, 17, 19, 21, 23, 25, 27, 29, 31, 33,\n",
       "       35, 37, 39])})"
      ]
     },
     "execution_count": 16,
     "metadata": {},
     "output_type": "execute_result"
    }
   ],
   "source": [
    "model = KNeighborsClassifier()\n",
    "grid = GridSearchCV(estimator=model, param_grid=param_grid,cv=10)\n",
    "grid.fit(X, Y)\n"
   ]
  },
  {
   "cell_type": "code",
   "execution_count": 17,
   "metadata": {
    "ExecuteTime": {
     "end_time": "2021-09-11T12:00:38.686372Z",
     "start_time": "2021-09-11T12:00:38.672327Z"
    }
   },
   "outputs": [
    {
     "name": "stdout",
     "output_type": "stream",
     "text": [
      "0.7552973342447027\n",
      "{'n_neighbors': 17}\n"
     ]
    }
   ],
   "source": [
    "print(grid.best_score_)\n",
    "print(grid.best_params_ )"
   ]
  },
  {
   "cell_type": "markdown",
   "metadata": {},
   "source": [
    "### Visualizing the CV results"
   ]
  },
  {
   "cell_type": "code",
   "execution_count": 18,
   "metadata": {
    "ExecuteTime": {
     "end_time": "2021-09-11T12:01:16.473647Z",
     "start_time": "2021-09-11T12:01:15.486885Z"
    }
   },
   "outputs": [
    {
     "data": {
      "image/png": "[encoded data removed]",
      "text/plain": [
       "<Figure size 432x288 with 1 Axes>"
      ]
     },
     "metadata": {
      "needs_background": "light"
     },
     "output_type": "display_data"
    }
   ],
   "source": [
    "import matplotlib.pyplot as plt \n",
    "%matplotlib inline\n",
    "# choose k between 1 to 41\n",
    "k_range = [2*i+1 for i in range(0,20)]\n",
    "k_scores = []\n",
    "# use iteration to caclulator different k in models, then return the average accuracy based on the cross validation\n",
    "for k in k_range:\n",
    "    knn = KNeighborsClassifier(n_neighbors=k)\n",
    "    scores = cross_val_score(knn, X, Y, cv=10)\n",
    "    k_scores.append(scores.mean())\n",
    "# plot to see clearly\n",
    "plt.bar(k_range, k_scores)Se\n",
    "plt.plot(k_range, k_scores,color=\"red\")\n",
    "\n",
    "plt.xlabel('Value of K for KNN')\n",
    "plt.ylabel('Cross-Validated Accuracy')\n",
    "plt.xticks(k_range)\n",
    "plt.ylim(0.6,1)\n",
    "plt.show()"
   ]
  },
  {
   "cell_type": "code",
   "execution_count": null,
   "metadata": {},
   "outputs": [],
   "source": []
  },
  {
   "cell_type": "code",
   "execution_count": null,
   "metadata": {},
   "outputs": [],
   "source": []
  }
 ],
 "metadata": {
  "kernelspec": {
   "display_name": "Python 3 (ipykernel)",
   "language": "python",
   "name": "python3"
  },
  "language_info": {
   "codemirror_mode": {
    "name": "ipython",
    "version": 3
   },
   "file_extension": ".py",
   "mimetype": "text/x-python",
   "name": "python",
   "nbconvert_exporter": "python",
   "pygments_lexer": "ipython3",
   "version": "3.9.7"
  }
 },
 "nbformat": 4,
 "nbformat_minor": 2
}
